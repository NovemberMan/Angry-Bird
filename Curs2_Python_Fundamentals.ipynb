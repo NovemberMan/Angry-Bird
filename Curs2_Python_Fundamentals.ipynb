{
  "nbformat": 4,
  "nbformat_minor": 0,
  "metadata": {
    "colab": {
      "name": "Curs2-Python Fundamentals",
      "provenance": [],
      "toc_visible": true,
      "include_colab_link": true
    },
    "kernelspec": {
      "name": "python3",
      "display_name": "Python 3"
    }
  },
  "cells": [
    {
      "cell_type": "markdown",
      "metadata": {
        "id": "view-in-github",
        "colab_type": "text"
      },
      "source": [
        "<a href=\"https://colab.research.google.com/github/NovemberMan/Angry-Bird/blob/master/Curs2_Python_Fundamentals.ipynb\" target=\"_parent\"><img src=\"https://colab.research.google.com/assets/colab-badge.svg\" alt=\"Open In Colab\"/></a>"
      ]
    },
    {
      "cell_type": "markdown",
      "metadata": {
        "id": "n7rO1tbjicmM"
      },
      "source": [
        "# **Operatori de initializare**"
      ]
    },
    {
      "cell_type": "markdown",
      "metadata": {
        "id": "IprqveFSii5P"
      },
      "source": [
        "\"=\"  -------->          c = a + b\n",
        "\n",
        "\"+=\" ------>         c +=  a   (echivalent cu: c =  c + a)\n",
        "\n",
        "\"-=\" ------->          c -= a    (echivalent cu: c = c - a)\n",
        "\n",
        "\"*=\" ------->           c *= a  (echivalent cu: c = c * a)\n",
        "\n",
        "\"/=\" ------->         c /= a   (echivalent cu: c = c / a)"
      ]
    },
    {
      "cell_type": "markdown",
      "metadata": {
        "id": "grcVoINejrkl"
      },
      "source": [
        "# **Printarea in Python pe linie noua**"
      ]
    },
    {
      "cell_type": "code",
      "metadata": {
        "id": "fbUqFm8pj4OM"
      },
      "source": [
        "# printare pe linie noua folosind \"\\n\"\n",
        "m=\"Acest string \\n are linii \\n multiple \\n\"\n",
        "print(m)\n",
        "\n",
        "#printare pe linie noua folosind 3 ghilimele si enter\n",
        "n=\"\"\"Un string cu 3 ghilimele \n",
        "va trece pe randul urmator\n",
        "cand dau enter in textul meu\"\"\"\n",
        "print(n)"
      ],
      "execution_count": null,
      "outputs": []
    },
    {
      "cell_type": "markdown",
      "metadata": {
        "id": "GaHAk4DcxGNO"
      },
      "source": [
        "### Printarea tab-ului "
      ]
    },
    {
      "cell_type": "code",
      "metadata": {
        "id": "wpp4Lvk6xt1F"
      },
      "source": [
        "# printarea tab ului se face folosind \\t\n",
        "\n",
        "m=\"Nume \\t Prenume\\n Budau \\t Iuliana\"\n",
        "print(\"asa arata o linie cu header dintr-un tabel\\n\", m)"
      ],
      "execution_count": null,
      "outputs": []
    },
    {
      "cell_type": "markdown",
      "metadata": {
        "id": "kYTasEO3mZF6"
      },
      "source": [
        "# **Printarea caracterelor speciale in Python**"
      ]
    },
    {
      "cell_type": "markdown",
      "metadata": {
        "id": "AvJTIBrMmoYL"
      },
      "source": [
        "Printarea caracterelor speciale ( apostrof, gilimele , backslash si altele) se face prin escaparea lor cu backslash."
      ]
    },
    {
      "cell_type": "code",
      "metadata": {
        "id": "YQBdTHClmhIs"
      },
      "source": [
        "m= \" printare apostrof \\' \"\n",
        "print(m)\n",
        "\n",
        "n=\"printare ghilimele \\\" \"\n",
        "print(n)\n",
        "\n",
        "print(\"asa se printeaza backslash in python \\\\\")"
      ],
      "execution_count": null,
      "outputs": []
    },
    {
      "cell_type": "markdown",
      "metadata": {
        "id": "eeFRHoo6oPkD"
      },
      "source": [
        "Pentru a defini un string il introducem intre apostrofuri sau intre ghilimele. O alta varianta de a printa ghilimele/apostrof fara sa le escapam este sa definim stringul folosind apostrof, respectiv ghilimele. Exemple mai jos:"
      ]
    },
    {
      "cell_type": "code",
      "metadata": {
        "id": "p4EPRmvPvMRT"
      },
      "source": [
        "# printez ghilimele punand stringul intre apostrofuri\n",
        "\n",
        "m='stringul meu are \" '\n",
        "print(m)\n",
        "\n",
        "#printez apostrof punand stringul intre ghilimele\n",
        "n=\"asa mai pot printa ' \"\n",
        "print(n)"
      ],
      "execution_count": null,
      "outputs": []
    },
    {
      "cell_type": "markdown",
      "metadata": {
        "id": "_zqZbb6f4-cA"
      },
      "source": [
        "# **Printarea raw string**"
      ]
    },
    {
      "cell_type": "markdown",
      "metadata": {
        "id": "Vim1bt4o5J7z"
      },
      "source": [
        "Printarea raw string inseamna anularea caracterelor speciale si printarea lor ca sir de caractere."
      ]
    },
    {
      "cell_type": "code",
      "metadata": {
        "id": "BwcVZlyl6Eqg"
      },
      "source": [
        "# asa pot printa \\ in interiorul unui string fara sa-l mai escapez tot cu \\\n",
        "\n",
        "m=r'C:\\Users\\cr26cw'\n",
        "print(m)\n",
        "\n",
        "n=r'imi va ignora tabul \\t si printarea pe linie nou \\n din acest text'\n",
        "print(n)"
      ],
      "execution_count": null,
      "outputs": []
    },
    {
      "cell_type": "markdown",
      "metadata": {
        "id": "T_kGNGWP9Cbr"
      },
      "source": [
        "Printarea raw string nu va functiona pentru ghilimele sau apostrof dar pot folosi ce am explicat in capitolul anterior."
      ]
    },
    {
      "cell_type": "code",
      "metadata": {
        "id": "ADwxCgyY8zsX"
      },
      "source": [
        "# modificati codul de mai jos ca sa nu obtineti eroare\n",
        "m=r'nu pot printa apostrof ' intre apostrofuri'"
      ],
      "execution_count": null,
      "outputs": []
    },
    {
      "cell_type": "markdown",
      "metadata": {
        "id": "btcv28yl_Sgb"
      },
      "source": [
        "# **If in Python**"
      ]
    },
    {
      "cell_type": "code",
      "metadata": {
        "id": "D2n8CmjXAI4p"
      },
      "source": [
        "#Expresia este convertită la bool și evaluată \n",
        "\n",
        "if bool(\"telacad\"):\n",
        "  print(\"expresia evaluata a fost True\") #Putem observa că indentarea în python este de 4 spații sau tab dar in general e pusa automat cand dam enter\n",
        "\n",
        "if 1:\n",
        "  print(\"expresia evaluata a fost True\") # deoarece bool(1)=True, de fapt bool de orice int e True daca int-ul nu e 0\n",
        "\n",
        "if \"acesta e un string\":\n",
        "  print(\"expresia evaluata a fost True\") # deoarece bool(\"acesta e un string\")=True\n",
        "else:\n",
        "  print(\"expresia evaluata a fost False\")\n",
        "\n"
      ],
      "execution_count": null,
      "outputs": []
    },
    {
      "cell_type": "code",
      "metadata": {
        "id": "x0awiMQHEjpo"
      },
      "source": [
        "#If in If\n",
        "\n",
        "inaltimea =25\n",
        "\n",
        "if inaltimea>50:\n",
        "  print(\"Inaltimea este mai mare decat 50\")\n",
        "else:\n",
        "  if inaltimea<20:\n",
        "    print(\"inaltimea mai mica decat 20\")\n",
        "  else:\n",
        "    print(\"inaltimea e intre 20 si 50\")\n"
      ],
      "execution_count": null,
      "outputs": []
    },
    {
      "cell_type": "code",
      "metadata": {
        "id": "73RCOW_tGpYR"
      },
      "source": [
        "#If elif else ofera o mai mare claritate decat if in if\n",
        "\n",
        "inaltimea =15\n",
        "\n",
        "if inaltimea>50:\n",
        "  print(\"Inaltimea este mai mare decat 50\")\n",
        "elif inaltimea<20:\n",
        "  print(\"inaltimea e mai mica decat 20\")\n",
        "else:\n",
        "  print(\"inaltimea e intre 20 si 50\")\n",
        "\n"
      ],
      "execution_count": null,
      "outputs": []
    },
    {
      "cell_type": "markdown",
      "metadata": {
        "id": "8zKLVyT5JsEF"
      },
      "source": [
        "# **While in Python**"
      ]
    },
    {
      "cell_type": "code",
      "metadata": {
        "id": "cPYKf3F0Jxsr"
      },
      "source": [
        "#Expresia este convertită la bool și evaluată\n",
        "\n",
        "n=10\n",
        "while n>0:\n",
        "  print(\"bucla continua cat timp expresia este adevarata\")\n",
        "  print(\"n=\",n)\n",
        "  n=n-1"
      ],
      "execution_count": null,
      "outputs": []
    },
    {
      "cell_type": "code",
      "metadata": {
        "id": "hQbjAjEcLaUn"
      },
      "source": [
        "# codul de mai sus putea fi scris si asa\n",
        "\n",
        "n=10\n",
        "while n: # while n va fi False , doar cand n=0\n",
        "  print(\"bucla continua cat timp expresia este adevarata\")\n",
        "  print(\"n=\",n)\n",
        "  n-=1\n"
      ],
      "execution_count": null,
      "outputs": []
    },
    {
      "cell_type": "markdown",
      "metadata": {
        "id": "OdFwVUK6MFbo"
      },
      "source": [
        "### **Break and continue in bucle**"
      ]
    },
    {
      "cell_type": "markdown",
      "metadata": {
        "id": "72C1EpRWMPy_"
      },
      "source": [
        "**Break** - termină execuția buclei ieșind din ea și continuând programul din care această buclă face parte\n",
        "\n",
        "**Continue** - în momentul când se-ntâlnește acest cuvânt în buclă se trece la pasul următor\n"
      ]
    },
    {
      "cell_type": "code",
      "metadata": {
        "id": "RkjCZFKMMbrT"
      },
      "source": [
        "# Exemplu cu break\n",
        "\n",
        "n=5\n",
        "while True:\n",
        "  if n==2:\n",
        "    break\n",
        "  print(n)\n",
        "  n=n-1\n",
        "print(\"Am ajuns aici iesind din bucla while cu break\")\n",
        "\n"
      ],
      "execution_count": null,
      "outputs": []
    },
    {
      "cell_type": "code",
      "metadata": {
        "id": "dn0fYK9EOOEE"
      },
      "source": [
        "# Exemplu cu continue\n",
        "\n",
        "n=5\n",
        "while n:\n",
        "  if n==2:\n",
        "    n=n-1\n",
        "    continue\n",
        "    print(\"Acest text nu va fi printat\")\n",
        "  print(n)\n",
        "  n=n-1\n",
        "print(\"In timpul executie s-a sarit pasul cu printarea lui 2 datorita lui continue\")"
      ],
      "execution_count": null,
      "outputs": []
    },
    {
      "cell_type": "markdown",
      "metadata": {
        "id": "6PBHQ87yPQka"
      },
      "source": [
        "# **For in Python**"
      ]
    },
    {
      "cell_type": "code",
      "metadata": {
        "id": "z5hYO_syPWwi"
      },
      "source": [
        "# parcurgem o secventa de numere create de functia range\n",
        "\n",
        "for i in range(5):\n",
        "  print(i)\n",
        "\n",
        "# parcurgem o secventa de cuvinte\n",
        "\n",
        "words = ['cat', 'window', 'defenestrate']\n",
        "for w in words:\n",
        "  print(w,len(w))"
      ],
      "execution_count": null,
      "outputs": []
    },
    {
      "cell_type": "markdown",
      "metadata": {
        "id": "hzsT3Zsca0Gv"
      },
      "source": [
        "# **Exercitii**"
      ]
    },
    {
      "cell_type": "markdown",
      "metadata": {
        "id": "92HlehxIa3VJ"
      },
      "source": [
        "1. Folosiți while pentru a verifica dacă inputul de la utilizator este stringul **Python Fundamentals** altfel cereți alt input până este cel dorit. Dacă stringul este Python Fundamentals ieșiți din buclă și apoi afișați mesajul “Sfarsitul programului”."
      ]
    },
    {
      "cell_type": "code",
      "metadata": {
        "id": "qdJC101AhfgU"
      },
      "source": [
        "# Scrie aici codul pt Ex 1\n"
      ],
      "execution_count": null,
      "outputs": []
    },
    {
      "cell_type": "markdown",
      "metadata": {
        "id": "fXK5zipEhjso"
      },
      "source": [
        "2. Captați de la utilizator ca input un numar intreg și verificați dacă e mai mare ca 2. Dacă nu, cereți alt input, apoi calculați suma de la 1 până la valoarea introdusă de utilizator: 1+2+...+n. "
      ]
    },
    {
      "cell_type": "code",
      "metadata": {
        "id": "2-HykT32ijS1"
      },
      "source": [
        "# Scrie aici codul pt Ex 2"
      ],
      "execution_count": null,
      "outputs": []
    },
    {
      "cell_type": "markdown",
      "metadata": {
        "id": "uEEN-aKXjXey"
      },
      "source": [
        "3. Verificați dacă inputul introdus de un user este un string format din 16 caractere( numarul cardului de cumparaturi). În caz contrar afisati un mesaj de genul “Numarul cardului este prea scurt” sau “Numarul cardului este prea lung” si cereti sa reintroduca valoarea corecta. Daca au fost introduse exact 16 caractere printați elementele acestei secvente de cuvinte [“Ati salvat cu succes”, “detaliile cardului!”, “Va multumim!” ,”Echipa ING”] pe un singur rand."
      ]
    },
    {
      "cell_type": "code",
      "metadata": {
        "id": "I3siJfIIjfVs"
      },
      "source": [
        "# Scrie aici codul pt Ex 3"
      ],
      "execution_count": null,
      "outputs": []
    }
  ]
}